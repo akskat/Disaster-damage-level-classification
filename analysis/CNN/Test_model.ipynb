{
 "cells": [
  {
   "cell_type": "code",
   "execution_count": 1,
   "id": "c0b58796-5d6b-4ef7-9e73-3f3b82e472ab",
   "metadata": {},
   "outputs": [
    {
     "name": "stderr",
     "output_type": "stream",
     "text": [
      "2024-04-29 05:53:18.749415: I tensorflow/core/util/port.cc:110] oneDNN custom operations are on. You may see slightly different numerical results due to floating-point round-off errors from different computation orders. To turn them off, set the environment variable `TF_ENABLE_ONEDNN_OPTS=0`.\n",
      "2024-04-29 05:53:18.791069: I tensorflow/core/platform/cpu_feature_guard.cc:182] This TensorFlow binary is optimized to use available CPU instructions in performance-critical operations.\n",
      "To enable the following instructions: AVX512F AVX512_VNNI, in other operations, rebuild TensorFlow with the appropriate compiler flags.\n"
     ]
    }
   ],
   "source": [
    "import pandas as pd\n",
    "import numpy as np\n",
    "import matplotlib.pyplot as plt\n",
    "from sklearn.model_selection import train_test_split\n",
    "from sklearn.linear_model import LinearRegression, LogisticRegression\n",
    "from sklearn.utils import shuffle\n",
    "from sklearn.metrics import accuracy_score\n",
    "from keras.preprocessing.image import ImageDataGenerator\n",
    "import keras"
   ]
  },
  {
   "cell_type": "code",
   "execution_count": 2,
   "id": "3beb9378-d226-4aa2-bf73-3faa19a899ae",
   "metadata": {},
   "outputs": [
    {
     "name": "stderr",
     "output_type": "stream",
     "text": [
      "2024-04-29 05:53:20.216399: I tensorflow/compiler/xla/stream_executor/cuda/cuda_gpu_executor.cc:995] successful NUMA node read from SysFS had negative value (-1), but there must be at least one NUMA node, so returning NUMA node zero. See more at https://github.com/torvalds/linux/blob/v6.0/Documentation/ABI/testing/sysfs-bus-pci#L344-L355\n",
      "2024-04-29 05:53:20.252087: I tensorflow/compiler/xla/stream_executor/cuda/cuda_gpu_executor.cc:995] successful NUMA node read from SysFS had negative value (-1), but there must be at least one NUMA node, so returning NUMA node zero. See more at https://github.com/torvalds/linux/blob/v6.0/Documentation/ABI/testing/sysfs-bus-pci#L344-L355\n",
      "2024-04-29 05:53:20.255870: I tensorflow/compiler/xla/stream_executor/cuda/cuda_gpu_executor.cc:995] successful NUMA node read from SysFS had negative value (-1), but there must be at least one NUMA node, so returning NUMA node zero. See more at https://github.com/torvalds/linux/blob/v6.0/Documentation/ABI/testing/sysfs-bus-pci#L344-L355\n",
      "2024-04-29 05:53:20.261976: I tensorflow/compiler/xla/stream_executor/cuda/cuda_gpu_executor.cc:995] successful NUMA node read from SysFS had negative value (-1), but there must be at least one NUMA node, so returning NUMA node zero. See more at https://github.com/torvalds/linux/blob/v6.0/Documentation/ABI/testing/sysfs-bus-pci#L344-L355\n",
      "2024-04-29 05:53:20.265671: I tensorflow/compiler/xla/stream_executor/cuda/cuda_gpu_executor.cc:995] successful NUMA node read from SysFS had negative value (-1), but there must be at least one NUMA node, so returning NUMA node zero. See more at https://github.com/torvalds/linux/blob/v6.0/Documentation/ABI/testing/sysfs-bus-pci#L344-L355\n",
      "2024-04-29 05:53:20.269236: I tensorflow/compiler/xla/stream_executor/cuda/cuda_gpu_executor.cc:995] successful NUMA node read from SysFS had negative value (-1), but there must be at least one NUMA node, so returning NUMA node zero. See more at https://github.com/torvalds/linux/blob/v6.0/Documentation/ABI/testing/sysfs-bus-pci#L344-L355\n",
      "2024-04-29 05:53:20.387315: I tensorflow/compiler/xla/stream_executor/cuda/cuda_gpu_executor.cc:995] successful NUMA node read from SysFS had negative value (-1), but there must be at least one NUMA node, so returning NUMA node zero. See more at https://github.com/torvalds/linux/blob/v6.0/Documentation/ABI/testing/sysfs-bus-pci#L344-L355\n",
      "2024-04-29 05:53:20.388810: I tensorflow/compiler/xla/stream_executor/cuda/cuda_gpu_executor.cc:995] successful NUMA node read from SysFS had negative value (-1), but there must be at least one NUMA node, so returning NUMA node zero. See more at https://github.com/torvalds/linux/blob/v6.0/Documentation/ABI/testing/sysfs-bus-pci#L344-L355\n",
      "2024-04-29 05:53:20.390210: I tensorflow/compiler/xla/stream_executor/cuda/cuda_gpu_executor.cc:995] successful NUMA node read from SysFS had negative value (-1), but there must be at least one NUMA node, so returning NUMA node zero. See more at https://github.com/torvalds/linux/blob/v6.0/Documentation/ABI/testing/sysfs-bus-pci#L344-L355\n",
      "2024-04-29 05:53:20.391538: I tensorflow/core/common_runtime/gpu/gpu_device.cc:1639] Created device /job:localhost/replica:0/task:0/device:GPU:0 with 20741 MB memory:  -> device: 0, name: NVIDIA A10, pci bus id: 0000:08:00.0, compute capability: 8.6\n"
     ]
    },
    {
     "name": "stdout",
     "output_type": "stream",
     "text": [
      "Model: \"sequential_4\"\n",
      "_________________________________________________________________\n",
      " Layer (type)                Output Shape              Param #   \n",
      "=================================================================\n",
      " resnet50 (Functional)       (None, 1000)              25636712  \n",
      "                                                                 \n",
      " dense_4 (Dense)             (None, 1)                 1001      \n",
      "                                                                 \n",
      "=================================================================\n",
      "Total params: 25637713 (97.80 MB)\n",
      "Trainable params: 25584593 (97.60 MB)\n",
      "Non-trainable params: 53120 (207.50 KB)\n",
      "_________________________________________________________________\n"
     ]
    }
   ],
   "source": [
    "model = keras.models.load_model('Models/model_9929.keras')\n",
    "\n",
    "model.summary()"
   ]
  },
  {
   "cell_type": "code",
   "execution_count": 3,
   "id": "dce9d58c-d9e6-4ef7-8bf9-53553d9478b8",
   "metadata": {},
   "outputs": [
    {
     "data": {
      "text/html": [
       "<div>\n",
       "<style scoped>\n",
       "    .dataframe tbody tr th:only-of-type {\n",
       "        vertical-align: middle;\n",
       "    }\n",
       "\n",
       "    .dataframe tbody tr th {\n",
       "        vertical-align: top;\n",
       "    }\n",
       "\n",
       "    .dataframe thead th {\n",
       "        text-align: right;\n",
       "    }\n",
       "</style>\n",
       "<table border=\"1\" class=\"dataframe\">\n",
       "  <thead>\n",
       "    <tr style=\"text-align: right;\">\n",
       "      <th></th>\n",
       "      <th>image</th>\n",
       "      <th>width</th>\n",
       "      <th>height</th>\n",
       "      <th>size</th>\n",
       "    </tr>\n",
       "  </thead>\n",
       "  <tbody>\n",
       "    <tr>\n",
       "      <th>0</th>\n",
       "      <td>[[[0, 0, 0], [0, 0, 0], [0, 0, 0], [0, 0, 0], ...</td>\n",
       "      <td>124</td>\n",
       "      <td>124</td>\n",
       "      <td>15376</td>\n",
       "    </tr>\n",
       "    <tr>\n",
       "      <th>1</th>\n",
       "      <td>[[[0, 0, 0], [0, 0, 0], [0, 0, 0], [0, 0, 0], ...</td>\n",
       "      <td>124</td>\n",
       "      <td>124</td>\n",
       "      <td>15376</td>\n",
       "    </tr>\n",
       "    <tr>\n",
       "      <th>2</th>\n",
       "      <td>[[[0, 0, 0], [0, 0, 0], [0, 0, 0], [0, 0, 0], ...</td>\n",
       "      <td>124</td>\n",
       "      <td>124</td>\n",
       "      <td>15376</td>\n",
       "    </tr>\n",
       "    <tr>\n",
       "      <th>3</th>\n",
       "      <td>[[[0, 0, 0], [0, 0, 0], [0, 0, 0], [0, 0, 0], ...</td>\n",
       "      <td>124</td>\n",
       "      <td>124</td>\n",
       "      <td>15376</td>\n",
       "    </tr>\n",
       "    <tr>\n",
       "      <th>4</th>\n",
       "      <td>[[[0, 0, 0], [0, 0, 0], [0, 0, 0], [0, 0, 0], ...</td>\n",
       "      <td>124</td>\n",
       "      <td>124</td>\n",
       "      <td>15376</td>\n",
       "    </tr>\n",
       "    <tr>\n",
       "      <th>...</th>\n",
       "      <td>...</td>\n",
       "      <td>...</td>\n",
       "      <td>...</td>\n",
       "      <td>...</td>\n",
       "    </tr>\n",
       "    <tr>\n",
       "      <th>3842</th>\n",
       "      <td>[[[9, 15, 11], [9, 14, 11], [9, 14, 11], [9, 1...</td>\n",
       "      <td>124</td>\n",
       "      <td>124</td>\n",
       "      <td>15376</td>\n",
       "    </tr>\n",
       "    <tr>\n",
       "      <th>3843</th>\n",
       "      <td>[[[0, 0, 0], [0, 0, 0], [0, 0, 0], [0, 0, 0], ...</td>\n",
       "      <td>124</td>\n",
       "      <td>124</td>\n",
       "      <td>15376</td>\n",
       "    </tr>\n",
       "    <tr>\n",
       "      <th>3844</th>\n",
       "      <td>[[[0, 0, 0], [0, 0, 0], [0, 0, 0], [0, 0, 0], ...</td>\n",
       "      <td>124</td>\n",
       "      <td>124</td>\n",
       "      <td>15376</td>\n",
       "    </tr>\n",
       "    <tr>\n",
       "      <th>3845</th>\n",
       "      <td>[[[0, 0, 0], [0, 0, 0], [0, 0, 0], [0, 0, 0], ...</td>\n",
       "      <td>124</td>\n",
       "      <td>124</td>\n",
       "      <td>15376</td>\n",
       "    </tr>\n",
       "    <tr>\n",
       "      <th>3846</th>\n",
       "      <td>[[[0, 0, 0], [0, 0, 0], [0, 0, 0], [0, 0, 0], ...</td>\n",
       "      <td>124</td>\n",
       "      <td>124</td>\n",
       "      <td>15376</td>\n",
       "    </tr>\n",
       "  </tbody>\n",
       "</table>\n",
       "<p>3847 rows × 4 columns</p>\n",
       "</div>"
      ],
      "text/plain": [
       "                                                  image  width  height   size\n",
       "0     [[[0, 0, 0], [0, 0, 0], [0, 0, 0], [0, 0, 0], ...    124     124  15376\n",
       "1     [[[0, 0, 0], [0, 0, 0], [0, 0, 0], [0, 0, 0], ...    124     124  15376\n",
       "2     [[[0, 0, 0], [0, 0, 0], [0, 0, 0], [0, 0, 0], ...    124     124  15376\n",
       "3     [[[0, 0, 0], [0, 0, 0], [0, 0, 0], [0, 0, 0], ...    124     124  15376\n",
       "4     [[[0, 0, 0], [0, 0, 0], [0, 0, 0], [0, 0, 0], ...    124     124  15376\n",
       "...                                                 ...    ...     ...    ...\n",
       "3842  [[[9, 15, 11], [9, 14, 11], [9, 14, 11], [9, 1...    124     124  15376\n",
       "3843  [[[0, 0, 0], [0, 0, 0], [0, 0, 0], [0, 0, 0], ...    124     124  15376\n",
       "3844  [[[0, 0, 0], [0, 0, 0], [0, 0, 0], [0, 0, 0], ...    124     124  15376\n",
       "3845  [[[0, 0, 0], [0, 0, 0], [0, 0, 0], [0, 0, 0], ...    124     124  15376\n",
       "3846  [[[0, 0, 0], [0, 0, 0], [0, 0, 0], [0, 0, 0], ...    124     124  15376\n",
       "\n",
       "[3847 rows x 4 columns]"
      ]
     },
     "execution_count": 3,
     "metadata": {},
     "output_type": "execute_result"
    }
   ],
   "source": [
    "df = pd.read_hdf('../../data/CNN Disaster/test_verify_data.h5', 'df')\n",
    "df"
   ]
  },
  {
   "cell_type": "markdown",
   "id": "2759b7b9-e8e6-49d6-bdb0-d31b0bdd5a4e",
   "metadata": {},
   "source": [
    "### Resize the test image dataset\n",
    "\n",
    "Resizing the test dataset and normalizing the values before it gets inserted into the model"
   ]
  },
  {
   "cell_type": "code",
   "execution_count": 4,
   "id": "7cb66e1a-8373-4b2e-aa33-87a849ef9d44",
   "metadata": {},
   "outputs": [],
   "source": [
    "import concurrent.futures\n",
    "import numpy as np\n",
    "from skimage.transform import resize\n",
    "\n",
    "def resize_image(image):\n",
    "    return resize(image, (224, 224), anti_aliasing=True, preserve_range=True).astype(image.dtype)\n",
    "\n",
    "def process_images(image_list):\n",
    "    with concurrent.futures.ThreadPoolExecutor() as executor:\n",
    "        return list(executor.map(resize_image, image_list))\n",
    "\n",
    "imgs = process_images(df[\"image\"].values)"
   ]
  },
  {
   "cell_type": "code",
   "execution_count": 8,
   "id": "8ca1b146-0551-4c07-ad0e-7dadf8bae64c",
   "metadata": {},
   "outputs": [],
   "source": [
    "test_float_images = []\n",
    "for image in imgs:\n",
    "    float_image = np.array(image).astype(np.float32)\n",
    "    test_float_images.append(float_image)\n",
    "\n",
    "test_float_images = np.array(test_float_images)/255"
   ]
  },
  {
   "cell_type": "markdown",
   "id": "29b0667d-ca09-483f-806c-8f876bb958a6",
   "metadata": {},
   "source": [
    "### Predict values and output to CSV file"
   ]
  },
  {
   "cell_type": "code",
   "execution_count": 9,
   "id": "76bd1e8d-5f5a-4713-a53d-dc5302e423b4",
   "metadata": {},
   "outputs": [
    {
     "name": "stderr",
     "output_type": "stream",
     "text": [
      "2024-04-29 05:54:50.299027: I tensorflow/compiler/xla/stream_executor/cuda/cuda_dnn.cc:432] Loaded cuDNN version 8902\n",
      "2024-04-29 05:54:50.598308: I tensorflow/compiler/xla/stream_executor/cuda/cuda_blas.cc:606] TensorFloat-32 will be used for the matrix multiplication. This will only be logged once.\n"
     ]
    },
    {
     "name": "stdout",
     "output_type": "stream",
     "text": [
      "121/121 [==============================] - 5s 32ms/step\n"
     ]
    }
   ],
   "source": [
    "res = model.predict(test_float_images).round()"
   ]
  },
  {
   "cell_type": "code",
   "execution_count": 10,
   "id": "4028394e-74bf-4a5b-b7d4-4bf6476b3d29",
   "metadata": {},
   "outputs": [],
   "source": [
    "df[\"pred\"] = res\n",
    "df[\"pred\"] = df[\"pred\"].astype(int)"
   ]
  },
  {
   "cell_type": "code",
   "execution_count": 11,
   "id": "7517775f-ab96-4557-a39e-0fdc3c8506d1",
   "metadata": {},
   "outputs": [],
   "source": [
    "df[[\"pred\"]].to_csv(\"test_images_flooding-fire_predictions.csv\")"
   ]
  },
  {
   "cell_type": "markdown",
   "id": "47a24740-d189-4e32-be17-ae9133b2d845",
   "metadata": {},
   "source": [
    "### Evaluate validation set accuracy and recall on damage level"
   ]
  },
  {
   "cell_type": "code",
   "execution_count": 12,
   "id": "cf14849e-7cd9-49e3-89c9-802f61fd7602",
   "metadata": {},
   "outputs": [],
   "source": [
    "validation_dataset = np.load('../../data/CNN Disaster/test_data.npz', allow_pickle=True)"
   ]
  },
  {
   "cell_type": "code",
   "execution_count": 13,
   "id": "8618bff6-f0b3-4848-9061-6ff3c8dd1962",
   "metadata": {},
   "outputs": [
    {
     "name": "stdout",
     "output_type": "stream",
     "text": [
      "88/88 [==============================] - 3s 34ms/step\n"
     ]
    },
    {
     "data": {
      "text/html": [
       "<div>\n",
       "<style scoped>\n",
       "    .dataframe tbody tr th:only-of-type {\n",
       "        vertical-align: middle;\n",
       "    }\n",
       "\n",
       "    .dataframe tbody tr th {\n",
       "        vertical-align: top;\n",
       "    }\n",
       "\n",
       "    .dataframe thead th {\n",
       "        text-align: right;\n",
       "    }\n",
       "</style>\n",
       "<table border=\"1\" class=\"dataframe\">\n",
       "  <thead>\n",
       "    <tr style=\"text-align: right;\">\n",
       "      <th></th>\n",
       "      <th>label</th>\n",
       "      <th>damage_label</th>\n",
       "      <th>predicted</th>\n",
       "    </tr>\n",
       "  </thead>\n",
       "  <tbody>\n",
       "    <tr>\n",
       "      <th>0</th>\n",
       "      <td>1.0</td>\n",
       "      <td>0</td>\n",
       "      <td>1.0</td>\n",
       "    </tr>\n",
       "    <tr>\n",
       "      <th>1</th>\n",
       "      <td>1.0</td>\n",
       "      <td>0</td>\n",
       "      <td>1.0</td>\n",
       "    </tr>\n",
       "    <tr>\n",
       "      <th>2</th>\n",
       "      <td>0.0</td>\n",
       "      <td>0</td>\n",
       "      <td>0.0</td>\n",
       "    </tr>\n",
       "    <tr>\n",
       "      <th>3</th>\n",
       "      <td>0.0</td>\n",
       "      <td>0</td>\n",
       "      <td>0.0</td>\n",
       "    </tr>\n",
       "    <tr>\n",
       "      <th>4</th>\n",
       "      <td>1.0</td>\n",
       "      <td>0</td>\n",
       "      <td>1.0</td>\n",
       "    </tr>\n",
       "    <tr>\n",
       "      <th>...</th>\n",
       "      <td>...</td>\n",
       "      <td>...</td>\n",
       "      <td>...</td>\n",
       "    </tr>\n",
       "    <tr>\n",
       "      <th>2797</th>\n",
       "      <td>0.0</td>\n",
       "      <td>0</td>\n",
       "      <td>0.0</td>\n",
       "    </tr>\n",
       "    <tr>\n",
       "      <th>2798</th>\n",
       "      <td>0.0</td>\n",
       "      <td>0</td>\n",
       "      <td>0.0</td>\n",
       "    </tr>\n",
       "    <tr>\n",
       "      <th>2799</th>\n",
       "      <td>1.0</td>\n",
       "      <td>0</td>\n",
       "      <td>1.0</td>\n",
       "    </tr>\n",
       "    <tr>\n",
       "      <th>2800</th>\n",
       "      <td>1.0</td>\n",
       "      <td>3</td>\n",
       "      <td>1.0</td>\n",
       "    </tr>\n",
       "    <tr>\n",
       "      <th>2801</th>\n",
       "      <td>0.0</td>\n",
       "      <td>0</td>\n",
       "      <td>0.0</td>\n",
       "    </tr>\n",
       "  </tbody>\n",
       "</table>\n",
       "<p>2802 rows × 3 columns</p>\n",
       "</div>"
      ],
      "text/plain": [
       "      label damage_label  predicted\n",
       "0       1.0            0        1.0\n",
       "1       1.0            0        1.0\n",
       "2       0.0            0        0.0\n",
       "3       0.0            0        0.0\n",
       "4       1.0            0        1.0\n",
       "...     ...          ...        ...\n",
       "2797    0.0            0        0.0\n",
       "2798    0.0            0        0.0\n",
       "2799    1.0            0        1.0\n",
       "2800    1.0            3        1.0\n",
       "2801    0.0            0        0.0\n",
       "\n",
       "[2802 rows x 3 columns]"
      ]
     },
     "execution_count": 13,
     "metadata": {},
     "output_type": "execute_result"
    }
   ],
   "source": [
    "validation_df = pd.DataFrame()\n",
    "validation_df[\"label\"] = validation_dataset[\"labels\"]\n",
    "validation_df[\"damage_label\"] = validation_dataset[\"damage_labels\"]\n",
    "validation_df[\"predicted\"] = model.predict(validation_dataset[\"images\"]).round()\n",
    "\n",
    "validation_df"
   ]
  },
  {
   "cell_type": "code",
   "execution_count": 14,
   "id": "d7ab7f78-7bf8-43bb-940b-85c8a20199bd",
   "metadata": {},
   "outputs": [],
   "source": [
    "socal = validation_df[validation_df[\"label\"] == 1]\n",
    "midwest = validation_df[validation_df[\"label\"] == 0]"
   ]
  },
  {
   "cell_type": "code",
   "execution_count": 15,
   "id": "7fc540cc-0b28-4a71-9721-57083ceb8e6c",
   "metadata": {},
   "outputs": [
    {
     "name": "stdout",
     "output_type": "stream",
     "text": [
      "Socal predictions\n"
     ]
    },
    {
     "data": {
      "text/html": [
       "<div>\n",
       "<style scoped>\n",
       "    .dataframe tbody tr th:only-of-type {\n",
       "        vertical-align: middle;\n",
       "    }\n",
       "\n",
       "    .dataframe tbody tr th {\n",
       "        vertical-align: top;\n",
       "    }\n",
       "\n",
       "    .dataframe thead th {\n",
       "        text-align: right;\n",
       "    }\n",
       "</style>\n",
       "<table border=\"1\" class=\"dataframe\">\n",
       "  <thead>\n",
       "    <tr style=\"text-align: right;\">\n",
       "      <th></th>\n",
       "      <th>damage_label</th>\n",
       "      <th>recall</th>\n",
       "      <th>accuracy</th>\n",
       "      <th>count</th>\n",
       "    </tr>\n",
       "  </thead>\n",
       "  <tbody>\n",
       "    <tr>\n",
       "      <th>0</th>\n",
       "      <td>0</td>\n",
       "      <td>99.7628%</td>\n",
       "      <td>99.7628%</td>\n",
       "      <td>1265</td>\n",
       "    </tr>\n",
       "    <tr>\n",
       "      <th>1</th>\n",
       "      <td>1</td>\n",
       "      <td>80.0000%</td>\n",
       "      <td>80.0000%</td>\n",
       "      <td>10</td>\n",
       "    </tr>\n",
       "    <tr>\n",
       "      <th>2</th>\n",
       "      <td>2</td>\n",
       "      <td>100.0000%</td>\n",
       "      <td>100.0000%</td>\n",
       "      <td>9</td>\n",
       "    </tr>\n",
       "    <tr>\n",
       "      <th>3</th>\n",
       "      <td>3</td>\n",
       "      <td>99.4413%</td>\n",
       "      <td>99.4413%</td>\n",
       "      <td>179</td>\n",
       "    </tr>\n",
       "  </tbody>\n",
       "</table>\n",
       "</div>"
      ],
      "text/plain": [
       "   damage_label     recall   accuracy  count\n",
       "0             0   99.7628%   99.7628%   1265\n",
       "1             1   80.0000%   80.0000%     10\n",
       "2             2  100.0000%  100.0000%      9\n",
       "3             3   99.4413%   99.4413%    179"
      ]
     },
     "execution_count": 15,
     "metadata": {},
     "output_type": "execute_result"
    }
   ],
   "source": [
    "socal_res = []\n",
    "for name, group in socal.groupby(\"damage_label\"):\n",
    "    TP = sum((group['predicted'] == 1) & (group['label'] == 1))\n",
    "    FN = sum((group['predicted'] != 1) & (group['label'] == 1))\n",
    "    TN = sum((group['predicted'] != 1) & (group['label'] != 1))\n",
    "    FP = sum((group['predicted'] == 1) & (group['label'] != 1))\n",
    "    \n",
    "    recall = TP / (TP + FN)\n",
    "    accuracy = (TP + TN) / (TP + TN + FP + FN)\n",
    "    \n",
    "    socal_res.append({\n",
    "        'damage_label': name,\n",
    "        'recall': f\"{recall:.4%}\",\n",
    "        'accuracy': f\"{accuracy:.4%}\",\n",
    "        'count': len(group)\n",
    "    })\n",
    "\n",
    "print(\"Socal predictions\")\n",
    "pd.DataFrame(socal_res)"
   ]
  },
  {
   "cell_type": "code",
   "execution_count": 16,
   "id": "f3182b2d-f7e9-430a-be64-a8664ed9d5de",
   "metadata": {},
   "outputs": [
    {
     "name": "stdout",
     "output_type": "stream",
     "text": [
      "Midwest predictions\n"
     ]
    },
    {
     "data": {
      "text/html": [
       "<div>\n",
       "<style scoped>\n",
       "    .dataframe tbody tr th:only-of-type {\n",
       "        vertical-align: middle;\n",
       "    }\n",
       "\n",
       "    .dataframe tbody tr th {\n",
       "        vertical-align: top;\n",
       "    }\n",
       "\n",
       "    .dataframe thead th {\n",
       "        text-align: right;\n",
       "    }\n",
       "</style>\n",
       "<table border=\"1\" class=\"dataframe\">\n",
       "  <thead>\n",
       "    <tr style=\"text-align: right;\">\n",
       "      <th></th>\n",
       "      <th>damage_label</th>\n",
       "      <th>recall</th>\n",
       "      <th>accuracy</th>\n",
       "      <th>count</th>\n",
       "    </tr>\n",
       "  </thead>\n",
       "  <tbody>\n",
       "    <tr>\n",
       "      <th>0</th>\n",
       "      <td>0</td>\n",
       "      <td>99.4582%</td>\n",
       "      <td>99.4582%</td>\n",
       "      <td>1292</td>\n",
       "    </tr>\n",
       "    <tr>\n",
       "      <th>1</th>\n",
       "      <td>1</td>\n",
       "      <td>100.0000%</td>\n",
       "      <td>100.0000%</td>\n",
       "      <td>18</td>\n",
       "    </tr>\n",
       "    <tr>\n",
       "      <th>2</th>\n",
       "      <td>2</td>\n",
       "      <td>100.0000%</td>\n",
       "      <td>100.0000%</td>\n",
       "      <td>14</td>\n",
       "    </tr>\n",
       "    <tr>\n",
       "      <th>3</th>\n",
       "      <td>3</td>\n",
       "      <td>100.0000%</td>\n",
       "      <td>100.0000%</td>\n",
       "      <td>15</td>\n",
       "    </tr>\n",
       "  </tbody>\n",
       "</table>\n",
       "</div>"
      ],
      "text/plain": [
       "   damage_label     recall   accuracy  count\n",
       "0             0   99.4582%   99.4582%   1292\n",
       "1             1  100.0000%  100.0000%     18\n",
       "2             2  100.0000%  100.0000%     14\n",
       "3             3  100.0000%  100.0000%     15"
      ]
     },
     "execution_count": 16,
     "metadata": {},
     "output_type": "execute_result"
    }
   ],
   "source": [
    "midwest_res = []\n",
    "for name, group in midwest.groupby(\"damage_label\"):\n",
    "    TP = sum((group['predicted'] == 0) & (group['label'] == 0))\n",
    "    FN = sum((group['predicted'] != 0) & (group['label'] == 0))\n",
    "    TN = sum((group['predicted'] != 0) & (group['label'] != 0))\n",
    "    FP = sum((group['predicted'] == 0) & (group['label'] != 0))\n",
    "    \n",
    "    recall = TP / (TP + FN)\n",
    "    accuracy = (TP + TN) / (TP + TN + FP + FN)\n",
    "    \n",
    "    midwest_res.append({\n",
    "        'damage_label': name,\n",
    "        'recall': f\"{recall:.4%}\",\n",
    "        'accuracy': f\"{accuracy:.4%}\",\n",
    "        'count': len(group)\n",
    "    })\n",
    "\n",
    "print(\"Midwest predictions\")\n",
    "pd.DataFrame(midwest_res)"
   ]
  }
 ],
 "metadata": {
  "kernelspec": {
   "display_name": "Python 3 (ipykernel)",
   "language": "python",
   "name": "python3"
  },
  "language_info": {
   "codemirror_mode": {
    "name": "ipython",
    "version": 3
   },
   "file_extension": ".py",
   "mimetype": "text/x-python",
   "name": "python",
   "nbconvert_exporter": "python",
   "pygments_lexer": "ipython3",
   "version": "3.10.12"
  }
 },
 "nbformat": 4,
 "nbformat_minor": 5
}
