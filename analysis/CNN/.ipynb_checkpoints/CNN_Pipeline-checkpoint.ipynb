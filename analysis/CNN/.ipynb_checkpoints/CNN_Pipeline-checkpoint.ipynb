{
 "cells": [
  {
   "cell_type": "code",
   "execution_count": null,
   "id": "b39e038c-3aa8-4ed3-a71f-c7fabe95c184",
   "metadata": {},
   "outputs": [],
   "source": []
  },
  {
   "cell_type": "code",
   "execution_count": 9,
   "id": "184fc8fa-1fbc-4924-8a66-a14b5455125d",
   "metadata": {},
   "outputs": [],
   "source": [
    "import pandas as pd\n",
    "import numpy as np\n",
    "import matplotlib.pyplot as plt\n",
    "from sklearn.model_selection import train_test_split\n",
    "from sklearn.linear_model import LinearRegression, LogisticRegression\n",
    "from sklearn.utils import shuffle\n",
    "from sklearn.metrics import accuracy_score\n",
    "from keras.preprocessing.image import ImageDataGenerator\n",
    "import keras"
   ]
  },
  {
   "cell_type": "code",
   "execution_count": 2,
   "id": "3abc60ed-839f-4067-a5a7-a17c04b4cc80",
   "metadata": {},
   "outputs": [],
   "source": [
    "# Reading from HDF5\n",
    "train_data = np.load('train_data.npz')\n",
    "test_data = np.load('test_data.npz')"
   ]
  },
  {
   "cell_type": "code",
   "execution_count": null,
   "id": "9e5b7488-d33a-4a2c-a23b-2989ca39af44",
   "metadata": {},
   "outputs": [],
   "source": [
    "# Hyper parameters\n",
    "epochs = 75\n",
    "batch_size = 64\n",
    "optimizer = 'adam'\n",
    "\n",
    "datagen = ImageDataGenerator(\n",
    "        featurewise_center=False,  # set input mean to 0 over the dataset\n",
    "        samplewise_center=False,  # set each sample mean to 0\n",
    "        featurewise_std_normalization=False,  # divide inputs by std of the dataset\n",
    "        samplewise_std_normalization=False,  # divide each input by its std\n",
    "        zca_whitening=False,  # apply ZCA whitening\n",
    "        rotation_range=90,  # randomly rotate images in the range (degrees, 0 to 180)\n",
    "        zoom_range = 0.1, # Randomly zoom image \n",
    "        width_shift_range=0.1,  # randomly shift images horizontally (fraction of total width)\n",
    "        height_shift_range=0.1,  # randomly shift images vertically (fraction of total height)\n",
    "        horizontal_flip=True,  # randomly flip images\n",
    "        vertical_flip=True)  # randomly flip images"
   ]
  },
  {
   "cell_type": "code",
   "execution_count": null,
   "id": "5c0eb276-c7cd-43a5-b6b6-8dec6121aa83",
   "metadata": {},
   "outputs": [],
   "source": [
    "train_steps = len(train_data[\"labels\"]) // batch_size\n",
    "valid_steps = len(test_data[\"labels\"]) // batch_size\n",
    "train_gen = datagen.flow(train_data[\"images\"], train_data[\"labels\"], batch_size=batch_size)\n",
    "test_gen = datagen.flow(test_data[\"images\"], test_data[\"labels\"], batch_size=batch_size)"
   ]
  },
  {
   "cell_type": "code",
   "execution_count": null,
   "id": "627b4491-9c6b-4d3c-950f-b305bc1f1437",
   "metadata": {},
   "outputs": [],
   "source": [
    "model = keras.Sequential()\n",
    "model.add(keras.Input(shape=(124,124,3)))\n",
    "model.add(keras.layers.Conv2D(filters=32, kernel_size=(3, 3), activation=\"relu\"))\n",
    "model.add(keras.layers.Conv2D(filters=32, kernel_size=(3, 3), activation=\"relu\"))\n",
    "model.add(keras.layers.MaxPool2D(pool_size=(2, 2))) # 64 -> 32\n",
    "model.add(keras.layers.BatchNormalization())\n",
    "\n",
    "model.add(keras.layers.Conv2D(filters=64, kernel_size=(3, 3), activation=\"relu\"))\n",
    "model.add(keras.layers.Conv2D(filters=64, kernel_size=(3, 3), activation=\"relu\"))\n",
    "model.add(keras.layers.MaxPool2D(pool_size=(2, 2))) # 64 -> 32\n",
    "model.add(keras.layers.BatchNormalization())\n",
    "\n",
    "model.add(keras.layers.Conv2D(filters=64, kernel_size=(3, 3), activation=\"relu\"))\n",
    "model.add(keras.layers.MaxPool2D(pool_size=(2, 2))) # 64 -> 32\n",
    "model.add(keras.layers.BatchNormalization())\n",
    "#model.add(keras.layers.MaxPool2D(pool_size=(2, 2))) # 64 -> 32\n",
    "\n",
    "#model.add(keras.layers.Conv2D(filters=30, kernel_size=(3, 3), activation=\"relu\"))\n",
    "#model.add(keras.layers.MaxPool2D(pool_size=(2, 2))) # 32 -> 16\n",
    "#model.add(keras.layers.Conv2D(filters=30, kernel_size=(3, 3), activation=\"relu\"))\n",
    "#model.add(keras.layers.MaxPool2D(pool_size=(2, 2))) # 16 -> 8\n",
    "model.add(keras.layers.Flatten())\n",
    "model.add(keras.layers.Dense(256))\n",
    "#model.add(keras.layers.Dropout(0.2))\n",
    "model.add(keras.layers.Dense(124))\n",
    "#model.add(keras.layers.Dropout(0.2))\n",
    "model.add(keras.layers.Dense(1, activation=\"sigmoid\"))\n",
    "\n",
    "model = keras.Sequential()\n",
    "model.add(keras.Input(shape=(124,124,3)))\n",
    "model.add(keras.layers.Conv2D(filters=64, kernel_size=(3, 3), activation=\"relu\"))\n",
    "model.add(keras.layers.MaxPool2D(pool_size=(2, 2))) # 64 -> 32\n",
    "model.add(keras.layers.Conv2D(filters=64, kernel_size=(3, 3), activation=\"relu\"))\n",
    "model.add(keras.layers.MaxPool2D(pool_size=(2, 2))) # 32 -> 16\n",
    "model.add(keras.layers.Conv2D(filters=128, kernel_size=(3, 3), activation=\"relu\"))\n",
    "model.add(keras.layers.MaxPool2D(pool_size=(2, 2))) # 16 -> 8\n",
    "model.add(keras.layers.Flatten())\n",
    "model.add(keras.layers.Dense(256))\n",
    "model.add(keras.layers.Dropout(0.2))\n",
    "model.add(keras.layers.Dense(124))\n",
    "model.add(keras.layers.Dropout(0.2))\n",
    "model.add(keras.layers.Dense(1, activation=\"sigmoid\"))"
   ]
  },
  {
   "cell_type": "code",
   "execution_count": null,
   "id": "f8e410d4-ef55-4c66-931d-08904211116e",
   "metadata": {},
   "outputs": [],
   "source": [
    "model.summary()"
   ]
  },
  {
   "cell_type": "code",
   "execution_count": null,
   "id": "6823bf26-bd0a-4b78-b24f-ab5f154411cd",
   "metadata": {},
   "outputs": [],
   "source": [
    "model.compile(optimizer=optimizer, loss=\"binary_crossentropy\", metrics=[\"accuracy\"])"
   ]
  },
  {
   "cell_type": "code",
   "execution_count": null,
   "id": "d22ad657-c9ed-400f-915a-9a6c0be5e045",
   "metadata": {},
   "outputs": [],
   "source": [
    "model_hist = model.fit(train_gen, epochs=epochs, batch_size=batch_size, validation_data=test_gen)"
   ]
  },
  {
   "cell_type": "code",
   "execution_count": null,
   "id": "ffefe3b5-642a-4ba8-b1bc-a7685266cd55",
   "metadata": {},
   "outputs": [],
   "source": [
    "x_values = np.arange(0, epochs)\n",
    "plt.plot(x_values, model_hist.history[\"accuracy\"], label=\"Accuracy\")\n",
    "plt.plot(x_values, model_hist.history[\"val_accuracy\"], label=\"Validation Accuracy\")\n",
    "plt.xlabel(\"Epochs\")\n",
    "plt.ylabel(\"Accuracy\")\n",
    "plt.legend()\n",
    "\n",
    "plt.plot()"
   ]
  },
  {
   "cell_type": "code",
   "execution_count": null,
   "id": "657bf000-531d-46a7-bcb7-a72a7ca82b06",
   "metadata": {},
   "outputs": [],
   "source": [
    "model.save('model_4.keras')"
   ]
  }
 ],
 "metadata": {
  "kernelspec": {
   "display_name": "Python 3 (ipykernel)",
   "language": "python",
   "name": "python3"
  },
  "language_info": {
   "codemirror_mode": {
    "name": "ipython",
    "version": 3
   },
   "file_extension": ".py",
   "mimetype": "text/x-python",
   "name": "python",
   "nbconvert_exporter": "python",
   "pygments_lexer": "ipython3",
   "version": "3.10.12"
  }
 },
 "nbformat": 4,
 "nbformat_minor": 5
}
